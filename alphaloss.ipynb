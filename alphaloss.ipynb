{
 "cells": [
  {
   "cell_type": "code",
   "execution_count": 1,
   "id": "a720b191",
   "metadata": {},
   "outputs": [],
   "source": [
    "import torch\n",
    "import torch.nn as nn\n",
    "import torch.optim as optim"
   ]
  },
  {
   "cell_type": "code",
   "execution_count": 28,
   "id": "3a2a8a90",
   "metadata": {},
   "outputs": [],
   "source": [
    "class alphaLoss(nn.Module):\n",
    "    def __init__(self, alpha=1.0):\n",
    "        super(alphaLoss, self).__init__()\n",
    "        if(alpha == 1):\n",
    "            self.alphaConst = -1\n",
    "        elif(alpha == float('inf')):\n",
    "            self.alphaConst = 1\n",
    "        else:\n",
    "            self.alphaConst = (alpha/(alpha-1))  # assigning alpha \n",
    "\n",
    "    #target = y; predicted y^\n",
    "    def forward(self, predicted, target):\n",
    "        # Define your loss computation here\n",
    "        #print(\"predicted=\",predicted,\"\\ntarget=\",target)\n",
    "        loss = 0\n",
    "        predicted = torch.clamp\n",
    "        if(self.alphaConst == -1):\n",
    "            loss = -torch.mean(target*torch.log(predicted) + (1-target)*torch.log(1-predicted))\n",
    "        else:\n",
    "            loss = -self.alphaConst*torch.mean(((1 - target * torch.pow(predicted, 1/self.alphaConst)) - (1-target)*torch.pow(predicted,1/self.alphaConst)))\n",
    "\n",
    "        #loss = torch.mean((predicted - target) ** 2) * self.weight\n",
    "        return loss"
   ]
  },
  {
   "cell_type": "code",
   "execution_count": 29,
   "id": "f9ac88ee",
   "metadata": {},
   "outputs": [],
   "source": [
    "criterion = alphaLoss(1)#first predicted; then target"
   ]
  },
  {
   "cell_type": "code",
   "execution_count": 30,
   "id": "32b36fa1",
   "metadata": {},
   "outputs": [
    {
     "name": "stdout",
     "output_type": "stream",
     "text": [
      "tensor(0.0560)\n"
     ]
    }
   ],
   "source": [
    "print(criterion(torch.tensor([0.99]),torch.tensor([0.99])))"
   ]
  },
  {
   "cell_type": "code",
   "execution_count": null,
   "id": "20e1afd7",
   "metadata": {},
   "outputs": [],
   "source": []
  }
 ],
 "metadata": {
  "kernelspec": {
   "display_name": "Python 3 (ipykernel)",
   "language": "python",
   "name": "python3"
  },
  "language_info": {
   "codemirror_mode": {
    "name": "ipython",
    "version": 3
   },
   "file_extension": ".py",
   "mimetype": "text/x-python",
   "name": "python",
   "nbconvert_exporter": "python",
   "pygments_lexer": "ipython3",
   "version": "3.10.12"
  }
 },
 "nbformat": 4,
 "nbformat_minor": 5
}
